{
 "cells": [
  {
   "attachments": {},
   "cell_type": "markdown",
   "metadata": {},
   "source": [
    "# Jupyter Notebook 入门与示例\n",
    "\n",
    "参考资料：<https://jupyter-notebook.readthedocs.io/en/stable/notebook.html>\n",
    "\n",
    "\n",
    "## Stuffs\n",
    "\n",
    "### Tutorials\n",
    "\n",
    "- [Jupyter Notebook官方介绍](https://jupyter-notebook.readthedocs.io/en/stable/notebook.html) #jupyter-notebook\n",
    "\t- [始于Jupyter Notebooks：一份全面的初学者实用指南](https://www.jiqizhixin.com/articles/2018-05-30-5)\n",
    "\t- [给初学者的 Jupyter Notebook 教程](https://github.com/xitu/gold-miner/blob/master/TODO1/jupyter-notebook-tutorial.md)\n",
    "\t- 除了典型地在 JN 中嵌入 Python 代码之外，还可以使用其他编程语言如 R，Julia，Javascript 等等\n",
    "    - [How to Use Jupyter Notebook: A Beginner’s Tutorial](https://www.dataquest.io/blog/jupyter-notebook-tutorial/)\n",
    "\n",
    "### jupyterhub\n",
    "- https://github.com/jupyterhub/jupyterhub 可以进行分享｜或者直接在 Gist 上分享 ipynb\n",
    "    - https://jupyterhub.readthedocs.io/en/stable/\n",
    "    - 托管在 readthedocs.io，主题很不错需要参考：Built with the [PyData Sphinx Theme](https://pydata-sphinx-theme.readthedocs.io/en/stable/index.html) 0.13.3. Created using [Sphinx](https://www.sphinx-doc.org/) 6.1.3.\n",
    "### Official Site\n",
    "- https://jupyter.org/\n",
    "- https://docs.jupyter.org/en/latest/\n",
    "- https://jupyter.org/install\n",
    "### Examples\n",
    "- 激励性例子(MathJax)  https://www.osgeo.cn/jupyter/examples/Notebook/Typesetting%20Equations.html\n",
    "    - Jupyter笔记本中包含的Markdown解析器支持Mathjax。这意味着您可以使用 [MathJax subset of Tex and LaTeX](https://docs.mathjax.org/en/latest/input/tex/) . [Some examples from the MathJax demos site](https://mathjax.github.io/MathJax-demos-web/) 在下面复制，以及markdown+tex源。\n",
    "- jupyter nbviewer\n",
    "    - https://nbviewer.org/github/ipython/ipython/blob/main/examples/Index.ipynb\n",
    "    - https://nbviewer.org/github/ipython/ipython/blob/6.x/examples/IPython%20Kernel/Index.ipynb\n",
    "        - https://github.com/ipython/ipython\n",
    "            - doc: https://ipython.readthedocs.io/en/stable/\n",
    "            - examples: [here](https://nbviewer.org/github/ipython/ipython/blob/6.x/examples/IPython%20Kernel/Index.ipynb)\n",
    "    - https://nbviewer.org/github/mikhailklassen/Mining-the-Social-Web-3rd-Edition/tree/master/notebooks/\n",
    "        - https://github.com/mikhailklassen/Mining-the-Social-Web-3rd-Edition\n",
    "    - 。。。\n",
    "    - https://nbviewer.org/\n",
    "- https://github.com/ibm-et/jupyter-samples\n",
    "    - 有 launchbinder badge\n",
    "        - https://mybinder.org/repo/ibm-et/jupyter-samples\n",
    "- https://cantera.org/examples/jupyter/index.html\n",
    "- https://jupyterbook.org/en/stable/file-types/notebooks.html\n",
    "- https://jupyterbook.org/en/stable/intro.html\n",
    "    - Executablebooks/jupyter-book\n",
    "        - https://github.com/executablebooks/jupyter-book\n",
    "- ...\n",
    "### Gallary\n",
    "#### osgeo.cn: [免费Jupyter科学计算服务](https://www.osgeo.cn/post/11052) #OSGEO #GIS\n",
    "- [https://pygis.osgeo.cn/notebook/](https://pygis.osgeo.cn/notebook/)\n",
    "    - 打开网站，输入任意用户名，密码pygis。\n",
    "- [开源GIS中文文档](https://www.osgeo.cn/gisdocs.html)\n",
    "- [最全面的Python语言、主要工具与类库中文文档](https://www.osgeo.cn/pythondocs.html)\n",
    "- [其它技术文档](https://www.osgeo.cn/otherdocs.html)\n",
    "- [开源地理空间基金会中文分会文档](https://www.osgeo.cn/osgeodocs.html)\n",
    "#### More\n",
    "- https://github.com/jupyter/jupyter/wiki#a-gallery-of-interesting-jupyter-notebooks\n",
    "- 如果你想为自己的 Notebooks 提供更多的灵感，Jupyter 已经整理好了([一个有趣的 Jupyter Notebook 图库](https://github.com/jupyter/jupyter/wiki/A-gallery-of-interesting-Jupyter-Notebooks))，你可能会发现它有帮助，并且你会发现 [Nbviewer 的主页](https://nbviewer.jupyter.org/)链接到一些真正的高质量笔记本的例子。也可以查看我们的 [Jupyter Notebooks 提示列表](https://www.dataquest.io/blog/jupyter-notebook-tips-tricks-shortcuts/)。\n",
    "- Notebook示例\n",
    "    - https://www.osgeo.cn/jupyter/examples/Notebook/examples_index.html\n",
    "\n",
    "- https://mybinder.org/\n",
    "    - mybinder 可以自动转换一个 git repo 中的 jupyter notebook 为一个 site，并在 mybinder 的子域名中展示它"
   ]
  },
  {
   "cell_type": "markdown",
   "metadata": {},
   "source": [
    "## Run Python Codes"
   ]
  },
  {
   "cell_type": "code",
   "execution_count": 1,
   "metadata": {},
   "outputs": [
    {
     "name": "stdout",
     "output_type": "stream",
     "text": [
      "hello world\n"
     ]
    }
   ],
   "source": [
    "print('hello %s' % 'world')"
   ]
  },
  {
   "cell_type": "markdown",
   "metadata": {},
   "source": [
    "- <https://pyformat.info/> Python 格式化一览\n",
    "- <https://docs.python.org/3/tutorial/inputoutput.html> Python Official Doc: 7. Input/Output and Format"
   ]
  },
  {
   "cell_type": "markdown",
   "metadata": {},
   "source": [
    "## Run Commands"
   ]
  },
  {
   "cell_type": "code",
   "execution_count": 4,
   "metadata": {},
   "outputs": [
    {
     "data": {
      "application/json": {
       "cell": {
        "!": "OSMagics",
        "HTML": "Other",
        "SVG": "Other",
        "bash": "Other",
        "capture": "ExecutionMagics",
        "debug": "ExecutionMagics",
        "file": "Other",
        "html": "DisplayMagics",
        "javascript": "DisplayMagics",
        "js": "DisplayMagics",
        "latex": "DisplayMagics",
        "markdown": "DisplayMagics",
        "perl": "Other",
        "prun": "ExecutionMagics",
        "pypy": "Other",
        "python": "Other",
        "python2": "Other",
        "python3": "Other",
        "ruby": "Other",
        "script": "ScriptMagics",
        "sh": "Other",
        "svg": "DisplayMagics",
        "sx": "OSMagics",
        "system": "OSMagics",
        "time": "ExecutionMagics",
        "timeit": "ExecutionMagics",
        "writefile": "OSMagics"
       },
       "line": {
        "alias": "OSMagics",
        "alias_magic": "BasicMagics",
        "autoawait": "AsyncMagics",
        "autocall": "AutoMagics",
        "automagic": "AutoMagics",
        "autosave": "KernelMagics",
        "bookmark": "OSMagics",
        "cat": "Other",
        "cd": "OSMagics",
        "clear": "KernelMagics",
        "colors": "BasicMagics",
        "conda": "PackagingMagics",
        "config": "ConfigMagics",
        "connect_info": "KernelMagics",
        "cp": "Other",
        "debug": "ExecutionMagics",
        "dhist": "OSMagics",
        "dirs": "OSMagics",
        "doctest_mode": "BasicMagics",
        "ed": "Other",
        "edit": "KernelMagics",
        "env": "OSMagics",
        "gui": "BasicMagics",
        "hist": "Other",
        "history": "HistoryMagics",
        "killbgscripts": "ScriptMagics",
        "ldir": "Other",
        "less": "KernelMagics",
        "lf": "Other",
        "lk": "Other",
        "ll": "Other",
        "load": "CodeMagics",
        "load_ext": "ExtensionMagics",
        "loadpy": "CodeMagics",
        "logoff": "LoggingMagics",
        "logon": "LoggingMagics",
        "logstart": "LoggingMagics",
        "logstate": "LoggingMagics",
        "logstop": "LoggingMagics",
        "ls": "Other",
        "lsmagic": "BasicMagics",
        "lx": "Other",
        "macro": "ExecutionMagics",
        "magic": "BasicMagics",
        "man": "KernelMagics",
        "matplotlib": "PylabMagics",
        "mkdir": "Other",
        "more": "KernelMagics",
        "mv": "Other",
        "notebook": "BasicMagics",
        "page": "BasicMagics",
        "pastebin": "CodeMagics",
        "pdb": "ExecutionMagics",
        "pdef": "NamespaceMagics",
        "pdoc": "NamespaceMagics",
        "pfile": "NamespaceMagics",
        "pinfo": "NamespaceMagics",
        "pinfo2": "NamespaceMagics",
        "pip": "PackagingMagics",
        "popd": "OSMagics",
        "pprint": "BasicMagics",
        "precision": "BasicMagics",
        "prun": "ExecutionMagics",
        "psearch": "NamespaceMagics",
        "psource": "NamespaceMagics",
        "pushd": "OSMagics",
        "pwd": "OSMagics",
        "pycat": "OSMagics",
        "pylab": "PylabMagics",
        "qtconsole": "KernelMagics",
        "quickref": "BasicMagics",
        "recall": "HistoryMagics",
        "rehashx": "OSMagics",
        "reload_ext": "ExtensionMagics",
        "rep": "Other",
        "rerun": "HistoryMagics",
        "reset": "NamespaceMagics",
        "reset_selective": "NamespaceMagics",
        "rm": "Other",
        "rmdir": "Other",
        "run": "ExecutionMagics",
        "save": "CodeMagics",
        "sc": "OSMagics",
        "set_env": "OSMagics",
        "store": "StoreMagics",
        "sx": "OSMagics",
        "system": "OSMagics",
        "tb": "ExecutionMagics",
        "time": "ExecutionMagics",
        "timeit": "ExecutionMagics",
        "unalias": "OSMagics",
        "unload_ext": "ExtensionMagics",
        "who": "NamespaceMagics",
        "who_ls": "NamespaceMagics",
        "whos": "NamespaceMagics",
        "xdel": "NamespaceMagics",
        "xmode": "BasicMagics"
       }
      },
      "text/plain": [
       "Available line magics:\n",
       "%alias  %alias_magic  %autoawait  %autocall  %automagic  %autosave  %bookmark  %cat  %cd  %clear  %colors  %conda  %config  %connect_info  %cp  %debug  %dhist  %dirs  %doctest_mode  %ed  %edit  %env  %gui  %hist  %history  %killbgscripts  %ldir  %less  %lf  %lk  %ll  %load  %load_ext  %loadpy  %logoff  %logon  %logstart  %logstate  %logstop  %ls  %lsmagic  %lx  %macro  %magic  %man  %matplotlib  %mkdir  %more  %mv  %notebook  %page  %pastebin  %pdb  %pdef  %pdoc  %pfile  %pinfo  %pinfo2  %pip  %popd  %pprint  %precision  %prun  %psearch  %psource  %pushd  %pwd  %pycat  %pylab  %qtconsole  %quickref  %recall  %rehashx  %reload_ext  %rep  %rerun  %reset  %reset_selective  %rm  %rmdir  %run  %save  %sc  %set_env  %store  %sx  %system  %tb  %time  %timeit  %unalias  %unload_ext  %who  %who_ls  %whos  %xdel  %xmode\n",
       "\n",
       "Available cell magics:\n",
       "%%!  %%HTML  %%SVG  %%bash  %%capture  %%debug  %%file  %%html  %%javascript  %%js  %%latex  %%markdown  %%perl  %%prun  %%pypy  %%python  %%python2  %%python3  %%ruby  %%script  %%sh  %%svg  %%sx  %%system  %%time  %%timeit  %%writefile\n",
       "\n",
       "Automagic is ON, % prefix IS NOT needed for line magics."
      ]
     },
     "execution_count": 4,
     "metadata": {},
     "output_type": "execute_result"
    }
   ],
   "source": [
    "%lsmagic"
   ]
  }
 ],
 "metadata": {
  "kernelspec": {
   "display_name": "Python 3 (ipykernel)",
   "language": "python",
   "name": "python3"
  },
  "language_info": {
   "codemirror_mode": {
    "name": "ipython",
    "version": 3
   },
   "file_extension": ".py",
   "mimetype": "text/x-python",
   "name": "python",
   "nbconvert_exporter": "python",
   "pygments_lexer": "ipython3",
   "version": "3.11.3"
  }
 },
 "nbformat": 4,
 "nbformat_minor": 2
}
